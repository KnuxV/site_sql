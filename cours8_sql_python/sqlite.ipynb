{
 "cells": [
  {
   "cell_type": "code",
   "id": "initial_id",
   "metadata": {
    "collapsed": true,
    "ExecuteTime": {
     "end_time": "2025-03-12T16:31:53.891702Z",
     "start_time": "2025-03-12T16:31:53.888476Z"
    }
   },
   "source": [
    "import sqlite3\n",
    "\n",
    "# Connexion à une base de données existante\n",
    "conn = sqlite3.connect('pokedex.sqlite')"
   ],
   "outputs": [],
   "execution_count": 1
  },
  {
   "metadata": {
    "ExecuteTime": {
     "end_time": "2025-03-12T16:32:50.299291Z",
     "start_time": "2025-03-12T16:32:50.296752Z"
    }
   },
   "cell_type": "code",
   "source": [
    "# Création d'un curseur pour exécuter des commandes SQL\n",
    "curseur = conn.cursor()\n",
    "\n",
    "# Vérifier que la connexion fonctionne\n",
    "curseur.execute(\"SELECT sqlite_version();\")\n",
    "version = curseur.fetchone()\n",
    "print(f\"Version SQLite: {version[0]}\")"
   ],
   "id": "9d5f673810dfb9f4",
   "outputs": [
    {
     "name": "stdout",
     "output_type": "stream",
     "text": [
      "Version SQLite: 3.41.2\n"
     ]
    }
   ],
   "execution_count": 2
  },
  {
   "metadata": {
    "ExecuteTime": {
     "end_time": "2025-03-12T16:33:48.868477Z",
     "start_time": "2025-03-12T16:33:48.863688Z"
    }
   },
   "cell_type": "code",
   "source": [
    "# Création d'une nouvelle table\n",
    "curseur.execute('''\n",
    "CREATE TABLE IF NOT EXISTS pokemon_types (\n",
    "    id INTEGER PRIMARY KEY,\n",
    "    pokemon_id INTEGER,\n",
    "    type_name TEXT,\n",
    "    FOREIGN KEY (pokemon_id) REFERENCES pokedex(id)\n",
    ")\n",
    "''')\n",
    "\n",
    "# Enregistrer les modifications\n",
    "conn.commit()"
   ],
   "id": "e0ea52d08a225f07",
   "outputs": [],
   "execution_count": 3
  },
  {
   "metadata": {
    "ExecuteTime": {
     "end_time": "2025-03-12T16:36:21.660820Z",
     "start_time": "2025-03-12T16:36:21.656758Z"
    }
   },
   "cell_type": "code",
   "source": [
    "# Insertion d'un seul enregistrement\n",
    "curseur.execute('''\n",
    "INSERT INTO pokemon_types (pokemon_id, type_name) VALUES (?, ?)\n",
    "''', (1, 'grass'))\n",
    "\n",
    "# Insertion de plusieurs enregistrements\n",
    "types_data = [\n",
    "    (1, 'poison'),\n",
    "    (2, 'grass'),\n",
    "    (2, 'poison'),\n",
    "    (3, 'grass'),\n",
    "    (3, 'poison'),\n",
    "    (4, 'fire')\n",
    "]\n",
    "curseur.executemany('INSERT INTO pokemon_types (pokemon_id, type_name) VALUES (?, ?)', types_data)\n",
    "\n",
    "# Enregistrer les modifications\n",
    "conn.commit()"
   ],
   "id": "ef309c3559f46af6",
   "outputs": [],
   "execution_count": 4
  },
  {
   "metadata": {
    "ExecuteTime": {
     "end_time": "2025-03-12T16:37:37.928261Z",
     "start_time": "2025-03-12T16:37:37.925599Z"
    }
   },
   "cell_type": "code",
   "source": [
    "query = \"\"\"\n",
    "SELECT * from pokemon_types;\n",
    "\"\"\"\n",
    "curseur.execute(query)\n",
    "p_types = curseur.fetchall()\n",
    "\n",
    "for t in p_types:\n",
    "    print(t)"
   ],
   "id": "961ba856250a9ac9",
   "outputs": [
    {
     "name": "stdout",
     "output_type": "stream",
     "text": [
      "(1, 1, 'grass')\n",
      "(2, 1, 'poison')\n",
      "(3, 2, 'grass')\n",
      "(4, 2, 'poison')\n",
      "(5, 3, 'grass')\n",
      "(6, 3, 'poison')\n",
      "(7, 4, 'fire')\n"
     ]
    }
   ],
   "execution_count": 5
  },
  {
   "metadata": {},
   "cell_type": "code",
   "outputs": [],
   "execution_count": null,
   "source": "",
   "id": "a1b302e26a16dbf"
  }
 ],
 "metadata": {
  "kernelspec": {
   "display_name": "Python 3",
   "language": "python",
   "name": "python3"
  },
  "language_info": {
   "codemirror_mode": {
    "name": "ipython",
    "version": 2
   },
   "file_extension": ".py",
   "mimetype": "text/x-python",
   "name": "python",
   "nbconvert_exporter": "python",
   "pygments_lexer": "ipython2",
   "version": "2.7.6"
  }
 },
 "nbformat": 4,
 "nbformat_minor": 5
}
